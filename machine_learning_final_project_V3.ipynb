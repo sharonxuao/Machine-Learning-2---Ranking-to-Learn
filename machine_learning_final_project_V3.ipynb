{
 "cells": [
  {
   "cell_type": "markdown",
   "metadata": {},
   "source": [
    "## Packages to be considered"
   ]
  },
  {
   "cell_type": "code",
   "execution_count": 1,
   "metadata": {},
   "outputs": [],
   "source": [
    "import numpy as np\n",
    "import pandas as pd\n",
    "from __future__ import division, print_function, unicode_literals\n",
    "%matplotlib inline\n",
    "import numpy as np #scientific computation\n",
    "import matplotlib.pyplot as plt \n",
    "from matplotlib.colors import ListedColormap\n",
    "from sklearn import neighbors, datasets \n",
    "from collections import Counter\n",
    "import seaborn as sns\n",
    "from sklearn.preprocessing import StandardScaler\n",
    "from sklearn.model_selection import train_test_split\n",
    "from sklearn.model_selection import GridSearchCV \n",
    "from sklearn.model_selection import cross_val_score\n",
    "from sklearn.metrics import roc_curve\n",
    "from sklearn.metrics import auc\n",
    "from sklearn.model_selection import learning_curve \n",
    "# Random permutation cross-validator\n",
    "from sklearn.model_selection import ShuffleSplit\n",
    "from sklearn import linear_model\n",
    "# from sklearn import metrics, cross_validation\n",
    "from sklearn.linear_model import LogisticRegression\n",
    "import os\n",
    "import datetime\n",
    "from pylab import rcParams\n",
    "from sklearn.utils import resample\n",
    "from sklearn.metrics import accuracy_score, f1_score, classification_report\n",
    "from sklearn.tree import DecisionTreeClassifier\n",
    "from sklearn.model_selection import GridSearchCV, cross_val_score\n",
    "from sklearn import preprocessing\n",
    "from sklearn.preprocessing import LabelEncoder\n",
    "from sklearn.ensemble import GradientBoostingClassifier"
   ]
  },
  {
   "cell_type": "markdown",
   "metadata": {},
   "source": [
    "## Set Directory"
   ]
  },
  {
   "cell_type": "code",
   "execution_count": 2,
   "metadata": {},
   "outputs": [],
   "source": [
    "os.chdir(\"C:/Users/Ao/Desktop/machine learning 2\")"
   ]
  },
  {
   "cell_type": "markdown",
   "metadata": {},
   "source": [
    "## Data Preparation"
   ]
  },
  {
   "cell_type": "code",
   "execution_count": 3,
   "metadata": {},
   "outputs": [],
   "source": [
    "df_expedia = pd.read_csv(\"clean040519.csv\")"
   ]
  },
  {
   "cell_type": "code",
   "execution_count": 4,
   "metadata": {},
   "outputs": [],
   "source": [
    "df_expedia_temp = df_expedia.groupby(\"srch_id\").agg({\"booking_bool\": np.sum, \"srch_id\": lambda x: x.nunique()})\n",
    "df_expedia_temp = df_expedia_temp[df_expedia_temp.booking_bool != 0]\n",
    "list_of_searh_id_with_booking = df_expedia_temp.iloc[:, np.r_[0,1]]\n",
    "list_search_id_with_bookings = list_of_searh_id_with_booking.index.tolist()\n",
    "\n",
    "#The code below helps us find the search ids with bookings in the dataset. This eliminates the search ids with no bookings\n",
    "df_expedia_clean = df_expedia[df_expedia['srch_id'].isin(list_search_id_with_bookings)] "
   ]
  },
  {
   "cell_type": "code",
   "execution_count": 5,
   "metadata": {},
   "outputs": [
    {
     "data": {
      "text/plain": [
       "srch_id                        0\n",
       "date_time                      0\n",
       "site_id                        0\n",
       "visitor_location_country_id    0\n",
       "prop_country_id                0\n",
       "prop_id                        0\n",
       "prop_starrating                0\n",
       "prop_review_score              0\n",
       "prop_brand_bool                0\n",
       "prop_location_score1           0\n",
       "prop_log_historical_price      0\n",
       "position                       0\n",
       "price_usd                      0\n",
       "promotion_flag                 0\n",
       "srch_destination_id            0\n",
       "srch_length_of_stay            0\n",
       "srch_booking_window            0\n",
       "srch_adults_count              0\n",
       "srch_children_count            0\n",
       "srch_room_count                0\n",
       "srch_saturday_night_bool       0\n",
       "click_bool                     0\n",
       "booking_bool                   0\n",
       "month                          0\n",
       "dtype: int64"
      ]
     },
     "execution_count": 5,
     "metadata": {},
     "output_type": "execute_result"
    }
   ],
   "source": [
    "# This helps us see how many NaN are present in the dataset. \n",
    "df_expedia_clean.isnull().sum(axis = 0) "
   ]
  },
  {
   "cell_type": "code",
   "execution_count": 6,
   "metadata": {},
   "outputs": [],
   "source": [
    "# Removed all the rows with the NaN. May want to keep prop_review_score.\n",
    "df = df_expedia_clean"
   ]
  },
  {
   "cell_type": "code",
   "execution_count": 7,
   "metadata": {},
   "outputs": [],
   "source": [
    "df['date_time'] = pd.to_datetime(df['date_time'])\n",
    "df['month'] = df['date_time'].dt.month"
   ]
  },
  {
   "cell_type": "code",
   "execution_count": 8,
   "metadata": {},
   "outputs": [
    {
     "name": "stdout",
     "output_type": "stream",
     "text": [
      "False    95.600808\n",
      "True      4.399192\n",
      "Name: click_bool, dtype: float64\n",
      "\n",
      "False    96.006532\n",
      "True      3.993468\n",
      "Name: booking_bool, dtype: float64\n"
     ]
    }
   ],
   "source": [
    "print(df['click_bool'].value_counts(1)*100)\n",
    "print()\n",
    "print(df['booking_bool'].value_counts(1)*100)\n"
   ]
  },
  {
   "cell_type": "code",
   "execution_count": 9,
   "metadata": {},
   "outputs": [],
   "source": [
    "# convert 1/0 integer values to boolean field and some integers or floats to objects\n",
    "df['click_bool'] = df['click_bool'].astype('bool')\n",
    "df['booking_bool'] = df['booking_bool'].astype('bool')\n",
    "df['visitor_location_country_id'] = df['visitor_location_country_id'].astype('category')\n",
    "df['prop_country_id'] = df['prop_country_id'].astype('category')\n",
    "df['prop_id'] = df['prop_id'].astype('category')\n",
    "df['prop_brand_bool'] = df['prop_brand_bool'].astype('bool')\n",
    "df['promotion_flag'] = df['promotion_flag'].astype('bool')\n",
    "df['srch_destination_id'] = df['srch_destination_id'].astype('category')\n",
    "df['srch_saturday_night_bool'] = df['srch_saturday_night_bool'].astype('bool')\n",
    "df['month'] = df['month'].astype('category')\n",
    "df['position'] = df['position'].astype('category')"
   ]
  },
  {
   "cell_type": "code",
   "execution_count": 10,
   "metadata": {},
   "outputs": [
    {
     "name": "stdout",
     "output_type": "stream",
     "text": [
      "srch_id=276593\n",
      "date_time=274270\n",
      "site_id=34\n",
      "visitor_location_country_id=215\n",
      "prop_country_id=171\n",
      "prop_id=129667\n",
      "prop_starrating=6\n",
      "prop_review_score=10\n",
      "prop_brand_bool=2\n",
      "prop_location_score1=337\n",
      "prop_log_historical_price=391\n",
      "position=40\n",
      "price_usd=77131\n",
      "promotion_flag=2\n",
      "srch_destination_id=20126\n",
      "srch_length_of_stay=32\n",
      "srch_booking_window=410\n",
      "srch_adults_count=9\n",
      "srch_children_count=10\n",
      "srch_room_count=8\n",
      "srch_saturday_night_bool=2\n",
      "click_bool=2\n",
      "booking_bool=2\n",
      "month=8\n"
     ]
    }
   ],
   "source": [
    "for k, v in df.nunique().to_dict().items():\n",
    "    print('{}={}'.format(k,v))"
   ]
  },
  {
   "cell_type": "code",
   "execution_count": 11,
   "metadata": {},
   "outputs": [
    {
     "name": "stdout",
     "output_type": "stream",
     "text": [
      "<class 'pandas.core.frame.DataFrame'>\n",
      "Int64Index: 6926136 entries, 0 to 6926135\n",
      "Data columns (total 24 columns):\n",
      "srch_id                        int64\n",
      "date_time                      datetime64[ns]\n",
      "site_id                        int64\n",
      "visitor_location_country_id    category\n",
      "prop_country_id                category\n",
      "prop_id                        category\n",
      "prop_starrating                int64\n",
      "prop_review_score              float64\n",
      "prop_brand_bool                bool\n",
      "prop_location_score1           float64\n",
      "prop_log_historical_price      float64\n",
      "position                       category\n",
      "price_usd                      float64\n",
      "promotion_flag                 bool\n",
      "srch_destination_id            category\n",
      "srch_length_of_stay            int64\n",
      "srch_booking_window            int64\n",
      "srch_adults_count              int64\n",
      "srch_children_count            int64\n",
      "srch_room_count                int64\n",
      "srch_saturday_night_bool       bool\n",
      "click_bool                     bool\n",
      "booking_bool                   bool\n",
      "month                          category\n",
      "dtypes: bool(5), category(6), datetime64[ns](1), float64(4), int64(8)\n",
      "memory usage: 858.9 MB\n"
     ]
    }
   ],
   "source": [
    "df.info()"
   ]
  },
  {
   "cell_type": "code",
   "execution_count": 12,
   "metadata": {},
   "outputs": [
    {
     "data": {
      "text/plain": [
       "<matplotlib.axes._subplots.AxesSubplot at 0x1d8361ec1d0>"
      ]
     },
     "execution_count": 12,
     "metadata": {},
     "output_type": "execute_result"
    },
    {
     "data": {
      "image/png": "[encoded data removed]",
      "text/plain": [
       "<Figure size 576x576 with 2 Axes>"
      ]
     },
     "metadata": {
      "needs_background": "light"
     },
     "output_type": "display_data"
    }
   ],
   "source": [
    "rcParams['figure.figsize'] = 8,8\n",
    "corr = df.corr()\n",
    "sns.heatmap(corr, xticklabels=corr.columns.values, yticklabels=corr.columns.values)"
   ]
  },
  {
   "cell_type": "markdown",
   "metadata": {},
   "source": [
    "## data preparation for modeling"
   ]
  },
  {
   "cell_type": "code",
   "execution_count": 13,
   "metadata": {},
   "outputs": [],
   "source": [
    "# drop date_time, position\n",
    "df = df.drop(['date_time', 'position'], axis=1)"
   ]
  },
  {
   "cell_type": "code",
   "execution_count": 14,
   "metadata": {},
   "outputs": [],
   "source": [
    "# extract all non-numeric columns\n",
    "col_encode = list(df.select_dtypes(exclude=['number','bool']))\n",
    "\n",
    "# save a copy for encoded offers data\n",
    "df_encode = df"
   ]
  },
  {
   "cell_type": "code",
   "execution_count": 15,
   "metadata": {},
   "outputs": [
    {
     "data": {
      "text/plain": [
       "['visitor_location_country_id',\n",
       " 'prop_country_id',\n",
       " 'prop_id',\n",
       " 'srch_destination_id',\n",
       " 'month']"
      ]
     },
     "execution_count": 15,
     "metadata": {},
     "output_type": "execute_result"
    }
   ],
   "source": [
    "col_encode"
   ]
  },
  {
   "cell_type": "code",
   "execution_count": 17,
   "metadata": {},
   "outputs": [],
   "source": [
    "# encode non-numeric columns\n",
    "df_encode[col_encode] = df_encode[col_encode].apply(LabelEncoder().fit_transform)\n"
   ]
  },
  {
   "cell_type": "code",
   "execution_count": 18,
   "metadata": {},
   "outputs": [],
   "source": [
    "# convert all encoded variables back to categorical\n",
    "for col in col_encode:\n",
    "    df_encode[col] = df_encode[col].astype('category')"
   ]
  },
  {
   "cell_type": "code",
   "execution_count": 19,
   "metadata": {},
   "outputs": [
    {
     "name": "stdout",
     "output_type": "stream",
     "text": [
      "<class 'pandas.core.frame.DataFrame'>\n",
      "Int64Index: 6926136 entries, 0 to 6926135\n",
      "Data columns (total 22 columns):\n",
      "srch_id                        int64\n",
      "site_id                        int64\n",
      "visitor_location_country_id    category\n",
      "prop_country_id                category\n",
      "prop_id                        category\n",
      "prop_starrating                int64\n",
      "prop_review_score              float64\n",
      "prop_brand_bool                bool\n",
      "prop_location_score1           float64\n",
      "prop_log_historical_price      float64\n",
      "price_usd                      float64\n",
      "promotion_flag                 bool\n",
      "srch_destination_id            category\n",
      "srch_length_of_stay            int64\n",
      "srch_booking_window            int64\n",
      "srch_adults_count              int64\n",
      "srch_children_count            int64\n",
      "srch_room_count                int64\n",
      "srch_saturday_night_bool       bool\n",
      "click_bool                     bool\n",
      "booking_bool                   bool\n",
      "month                          category\n",
      "dtypes: bool(5), category(5), float64(4), int64(8)\n",
      "memory usage: 799.4 MB\n"
     ]
    }
   ],
   "source": [
    "df_encode.info()"
   ]
  },
  {
   "cell_type": "code",
   "execution_count": 20,
   "metadata": {},
   "outputs": [],
   "source": [
    "# log transfer\n",
    "df_encode.price_usd += 0.000001\n",
    "df_encode['log_price'] = np.log(df_encode.price_usd)"
   ]
  },
  {
   "cell_type": "code",
   "execution_count": 21,
   "metadata": {},
   "outputs": [
    {
     "data": {
      "text/plain": [
       "count    6.926136e+06\n",
       "mean     2.314613e+02\n",
       "std      1.448883e+04\n",
       "min      1.000000e-06\n",
       "25%      8.400000e+01\n",
       "50%      1.190000e+02\n",
       "75%      1.790000e+02\n",
       "max      1.972633e+07\n",
       "Name: price_usd, dtype: float64"
      ]
     },
     "execution_count": 21,
     "metadata": {},
     "output_type": "execute_result"
    }
   ],
   "source": [
    "df_encode['price_usd'].describe()"
   ]
  },
  {
   "cell_type": "code",
   "execution_count": 23,
   "metadata": {},
   "outputs": [
    {
     "data": {
      "text/plain": [
       "<matplotlib.axes._subplots.AxesSubplot at 0x1d8363ad208>"
      ]
     },
     "execution_count": 23,
     "metadata": {},
     "output_type": "execute_result"
    },
    {
     "data": {
      "image/png": "[encoded data removed]",
      "text/plain": [
       "<Figure size 576x576 with 1 Axes>"
      ]
     },
     "metadata": {
      "needs_background": "light"
     },
     "output_type": "display_data"
    }
   ],
   "source": [
    "# nofmal distribution after log transformation\n",
    "df_encode['log_price'].hist(bins=100)"
   ]
  },
  {
   "cell_type": "code",
   "execution_count": 24,
   "metadata": {},
   "outputs": [],
   "source": [
    "df = df_encode.drop(['price_usd'], axis=1)"
   ]
  },
  {
   "cell_type": "code",
   "execution_count": 25,
   "metadata": {},
   "outputs": [
    {
     "name": "stdout",
     "output_type": "stream",
     "text": [
      "<class 'pandas.core.frame.DataFrame'>\n",
      "Int64Index: 6926136 entries, 0 to 6926135\n",
      "Data columns (total 22 columns):\n",
      "srch_id                        int64\n",
      "site_id                        int64\n",
      "visitor_location_country_id    category\n",
      "prop_country_id                category\n",
      "prop_id                        category\n",
      "prop_starrating                int64\n",
      "prop_review_score              float64\n",
      "prop_brand_bool                bool\n",
      "prop_location_score1           float64\n",
      "prop_log_historical_price      float64\n",
      "promotion_flag                 bool\n",
      "srch_destination_id            category\n",
      "srch_length_of_stay            int64\n",
      "srch_booking_window            int64\n",
      "srch_adults_count              int64\n",
      "srch_children_count            int64\n",
      "srch_room_count                int64\n",
      "srch_saturday_night_bool       bool\n",
      "click_bool                     bool\n",
      "booking_bool                   bool\n",
      "month                          category\n",
      "log_price                      float64\n",
      "dtypes: bool(5), category(5), float64(4), int64(8)\n",
      "memory usage: 799.4 MB\n"
     ]
    }
   ],
   "source": [
    "df.info()"
   ]
  },
  {
   "cell_type": "markdown",
   "metadata": {},
   "source": [
    "## Test, Validate and train"
   ]
  },
  {
   "cell_type": "code",
   "execution_count": 26,
   "metadata": {},
   "outputs": [
    {
     "data": {
      "text/plain": [
       "25.040894021179135"
      ]
     },
     "execution_count": 26,
     "metadata": {},
     "output_type": "execute_result"
    }
   ],
   "source": [
    "# on average 25 properties per booking\n",
    "len(df.index)/df[\"srch_id\"].nunique() "
   ]
  },
  {
   "cell_type": "code",
   "execution_count": 27,
   "metadata": {},
   "outputs": [],
   "source": [
    "# sample serchids\n",
    "sample = pd.Series(df['srch_id'].unique()).sample(60000, random_state = 64)\n",
    "df1 = df.loc[df['srch_id'].isin(sample)]"
   ]
  },
  {
   "cell_type": "code",
   "execution_count": 28,
   "metadata": {},
   "outputs": [
    {
     "data": {
      "text/plain": [
       "(1500111, 22)"
      ]
     },
     "execution_count": 28,
     "metadata": {},
     "output_type": "execute_result"
    }
   ],
   "source": [
    "df1.shape"
   ]
  },
  {
   "cell_type": "code",
   "execution_count": 29,
   "metadata": {},
   "outputs": [],
   "source": [
    "# split by search_id\n",
    "from sklearn.model_selection import GroupShuffleSplit\n",
    "\n",
    "df1.reset_index()['srch_id']\n",
    "group = GroupShuffleSplit(n_splits=1, test_size=0.3)\n",
    "train_dataset,test_dataset = next(group.split(X=df1, y=df1['booking_bool'], groups=df1.index.values))"
   ]
  },
  {
   "cell_type": "code",
   "execution_count": 30,
   "metadata": {},
   "outputs": [],
   "source": [
    "# train test split: 0.7 on searchids\n",
    "train_id = pd.Series(df1['srch_id'].unique()).sample(42000)\n",
    "train = df1.loc[df1['srch_id'].isin(train_id)]\n",
    "test = df1.loc[~df1['srch_id'].isin(train_id)]"
   ]
  },
  {
   "cell_type": "code",
   "execution_count": 31,
   "metadata": {
    "scrolled": true
   },
   "outputs": [
    {
     "name": "stdout",
     "output_type": "stream",
     "text": [
      "(449679, 22)\n",
      "(1050432, 22)\n"
     ]
    }
   ],
   "source": [
    "print(test.shape)\n",
    "print(train.shape)"
   ]
  },
  {
   "cell_type": "code",
   "execution_count": 32,
   "metadata": {},
   "outputs": [
    {
     "name": "stdout",
     "output_type": "stream",
     "text": [
      "False    96.001645\n",
      "True      3.998355\n",
      "Name: booking_bool, dtype: float64\n"
     ]
    }
   ],
   "source": [
    "print(train['booking_bool'].value_counts(1)*100)"
   ]
  },
  {
   "cell_type": "code",
   "execution_count": 33,
   "metadata": {},
   "outputs": [
    {
     "data": {
      "text/plain": [
       "False    214246\n",
       "True      42000\n",
       "Name: booking_bool, dtype: int64"
      ]
     },
     "execution_count": 33,
     "metadata": {},
     "output_type": "execute_result"
    }
   ],
   "source": [
    "# Separate majority and minority classes\n",
    "train_majority = train[train.click_bool==0]\n",
    "train_minority = train[train.click_bool==1]\n",
    "\n",
    "# Downsample majority class\n",
    "train_majority_downsampled = train_majority.groupby('srch_id').apply(lambda x: x.sample(5, replace = True)).reset_index(drop=True)\n",
    "\n",
    "# Combine minority class with dwonsampled majority class\n",
    "train_downsampled = pd.concat([train_minority, train_majority_downsampled])\n",
    " \n",
    "# Display new class counts\n",
    "train_downsampled.booking_bool.value_counts()"
   ]
  },
  {
   "cell_type": "code",
   "execution_count": 36,
   "metadata": {},
   "outputs": [
    {
     "name": "stdout",
     "output_type": "stream",
     "text": [
      "<class 'pandas.core.frame.DataFrame'>\n",
      "Int64Index: 449679 entries, 367 to 6926096\n",
      "Data columns (total 22 columns):\n",
      "srch_id                        449679 non-null int64\n",
      "site_id                        449679 non-null int64\n",
      "visitor_location_country_id    449679 non-null category\n",
      "prop_country_id                449679 non-null category\n",
      "prop_id                        449679 non-null category\n",
      "prop_starrating                449679 non-null int64\n",
      "prop_review_score              449679 non-null float64\n",
      "prop_brand_bool                449679 non-null bool\n",
      "prop_location_score1           449679 non-null float64\n",
      "prop_log_historical_price      449679 non-null float64\n",
      "promotion_flag                 449679 non-null bool\n",
      "srch_destination_id            449679 non-null category\n",
      "srch_length_of_stay            449679 non-null int64\n",
      "srch_booking_window            449679 non-null int64\n",
      "srch_adults_count              449679 non-null int64\n",
      "srch_children_count            449679 non-null int64\n",
      "srch_room_count                449679 non-null int64\n",
      "srch_saturday_night_bool       449679 non-null bool\n",
      "click_bool                     449679 non-null bool\n",
      "booking_bool                   449679 non-null bool\n",
      "month                          449679 non-null category\n",
      "log_price                      449679 non-null float64\n",
      "dtypes: bool(5), category(5), float64(4), int64(8)\n",
      "memory usage: 58.2 MB\n"
     ]
    }
   ],
   "source": [
    "test.info()"
   ]
  },
  {
   "cell_type": "code",
   "execution_count": 37,
   "metadata": {},
   "outputs": [],
   "source": [
    "# Splits in data\n",
    "X_train = train_downsampled.iloc[:, np.r_[ :19,20,21]]\n",
    "y_train = train_downsampled.iloc[:,19]\n",
    "X_test = test.iloc[:, np.r_[ :19,20,21]]\n",
    "y_test = test.iloc[:,19]"
   ]
  },
  {
   "cell_type": "code",
   "execution_count": 39,
   "metadata": {},
   "outputs": [
    {
     "name": "stdout",
     "output_type": "stream",
     "text": [
      "<class 'pandas.core.frame.DataFrame'>\n",
      "Int64Index: 449679 entries, 367 to 6926096\n",
      "Data columns (total 21 columns):\n",
      "srch_id                        449679 non-null int64\n",
      "site_id                        449679 non-null int64\n",
      "visitor_location_country_id    449679 non-null category\n",
      "prop_country_id                449679 non-null category\n",
      "prop_id                        449679 non-null category\n",
      "prop_starrating                449679 non-null int64\n",
      "prop_review_score              449679 non-null float64\n",
      "prop_brand_bool                449679 non-null bool\n",
      "prop_location_score1           449679 non-null float64\n",
      "prop_log_historical_price      449679 non-null float64\n",
      "promotion_flag                 449679 non-null bool\n",
      "srch_destination_id            449679 non-null category\n",
      "srch_length_of_stay            449679 non-null int64\n",
      "srch_booking_window            449679 non-null int64\n",
      "srch_adults_count              449679 non-null int64\n",
      "srch_children_count            449679 non-null int64\n",
      "srch_room_count                449679 non-null int64\n",
      "srch_saturday_night_bool       449679 non-null bool\n",
      "click_bool                     449679 non-null bool\n",
      "month                          449679 non-null category\n",
      "log_price                      449679 non-null float64\n",
      "dtypes: bool(4), category(5), float64(4), int64(8)\n",
      "memory usage: 57.8 MB\n"
     ]
    }
   ],
   "source": [
    "X_test.info()"
   ]
  },
  {
   "cell_type": "code",
   "execution_count": 40,
   "metadata": {},
   "outputs": [],
   "source": [
    "# write out csvs\n",
    "X_train.to_csv(r'C:\\Users\\Ao\\Desktop\\ML data\\X_train1.csv', index = None, header=True)\n",
    "y_train.to_csv(r'C:\\Users\\Ao\\Desktop\\ML data\\y_train1.csv', index = None, header=True)\n",
    "X_test.to_csv(r'C:\\Users\\Ao\\Desktop\\ML data\\X_test1.csv', index = None, header=True)\n",
    "y_test.to_csv(r'C:\\Users\\Ao\\Desktop\\ML data\\y_test1.csv', index = None, header=True)"
   ]
  },
  {
   "cell_type": "code",
   "execution_count": 2,
   "metadata": {},
   "outputs": [],
   "source": [
    "# read back csvs\n",
    "X_train = pd.read_csv(r'C:\\Users\\Ao\\Desktop\\ML data\\X_train1.csv')\n",
    "y_train = pd.read_csv(r'C:\\Users\\Ao\\Desktop\\ML data\\y_train1.csv')\n",
    "X_test = pd.read_csv(r'C:\\Users\\Ao\\Desktop\\ML data\\X_test1.csv')\n",
    "y_test = pd.read_csv(r'C:\\Users\\Ao\\Desktop\\ML data\\y_test1.csv')"
   ]
  },
  {
   "cell_type": "code",
   "execution_count": 3,
   "metadata": {},
   "outputs": [],
   "source": [
    "y_train = np.ravel(y_train)\n",
    "y_test = np.ravel(y_test)"
   ]
  },
  {
   "cell_type": "code",
   "execution_count": 4,
   "metadata": {},
   "outputs": [],
   "source": [
    "# convert 1/0 integer values to boolean field and some integers or floats to objects\n",
    "X_train['click_bool'] = X_train['click_bool'].astype('bool')\n",
    "X_train['visitor_location_country_id'] = X_train['visitor_location_country_id'].astype('category')\n",
    "X_train['prop_country_id'] = X_train['prop_country_id'].astype('category')\n",
    "X_train['prop_id'] = X_train['prop_id'].astype('category')\n",
    "X_train['prop_brand_bool'] = X_train['prop_brand_bool'].astype('bool')\n",
    "X_train['promotion_flag'] = X_train['promotion_flag'].astype('bool')\n",
    "X_train['srch_destination_id'] = X_train['srch_destination_id'].astype('category')\n",
    "X_train['site_id'] = X_train['site_id'].astype('category')\n",
    "X_train['srch_saturday_night_bool'] = X_train['srch_saturday_night_bool'].astype('bool')\n",
    "X_train['month'] = X_train['month'].astype('category')\n",
    "\n",
    "X_test['click_bool'] = X_test['click_bool'].astype('bool')\n",
    "X_test['visitor_location_country_id'] = X_test['visitor_location_country_id'].astype('category')\n",
    "X_test['prop_country_id'] = X_test['prop_country_id'].astype('category')\n",
    "X_test['prop_id'] = X_test['prop_id'].astype('category')\n",
    "X_test['prop_brand_bool'] = X_test['prop_brand_bool'].astype('bool')\n",
    "X_test['promotion_flag'] = X_test['promotion_flag'].astype('bool')\n",
    "X_test['srch_destination_id'] = X_test['srch_destination_id'].astype('category')\n",
    "X_test['site_id'] = X_test['site_id'].astype('category')\n",
    "X_test['srch_saturday_night_bool'] = X_test['srch_saturday_night_bool'].astype('bool')\n",
    "X_test['month'] = X_test['month'].astype('category')"
   ]
  },
  {
   "cell_type": "code",
   "execution_count": 5,
   "metadata": {},
   "outputs": [],
   "source": [
    "# extract all non-numeric columns\n",
    "col_encode = list(X_train.select_dtypes(exclude=['number','bool']))"
   ]
  },
  {
   "cell_type": "code",
   "execution_count": 6,
   "metadata": {},
   "outputs": [
    {
     "name": "stdout",
     "output_type": "stream",
     "text": [
      "<class 'pandas.core.frame.DataFrame'>\n",
      "RangeIndex: 256246 entries, 0 to 256245\n",
      "Data columns (total 21 columns):\n",
      "srch_id                        256246 non-null int64\n",
      "site_id                        256246 non-null category\n",
      "visitor_location_country_id    256246 non-null category\n",
      "prop_country_id                256246 non-null category\n",
      "prop_id                        256246 non-null category\n",
      "prop_starrating                256246 non-null int64\n",
      "prop_review_score              256246 non-null float64\n",
      "prop_brand_bool                256246 non-null bool\n",
      "prop_location_score1           256246 non-null float64\n",
      "prop_log_historical_price      256246 non-null float64\n",
      "promotion_flag                 256246 non-null bool\n",
      "srch_destination_id            256246 non-null category\n",
      "srch_length_of_stay            256246 non-null int64\n",
      "srch_booking_window            256246 non-null int64\n",
      "srch_adults_count              256246 non-null int64\n",
      "srch_children_count            256246 non-null int64\n",
      "srch_room_count                256246 non-null int64\n",
      "srch_saturday_night_bool       256246 non-null bool\n",
      "click_bool                     256246 non-null bool\n",
      "month                          256246 non-null category\n",
      "log_price                      256246 non-null float64\n",
      "dtypes: bool(4), category(6), float64(4), int64(7)\n",
      "memory usage: 28.8 MB\n"
     ]
    }
   ],
   "source": [
    "# encode non-numeric columns\n",
    "X_train[col_encode] = X_train[col_encode].apply(LabelEncoder().fit_transform)\n",
    "\n",
    "# convert all encoded variables back to categorical\n",
    "for col in col_encode:\n",
    "    X_train[col] = X_train[col].astype('category')\n",
    "    \n",
    "X_train.info()"
   ]
  },
  {
   "cell_type": "code",
   "execution_count": 7,
   "metadata": {},
   "outputs": [
    {
     "name": "stdout",
     "output_type": "stream",
     "text": [
      "<class 'pandas.core.frame.DataFrame'>\n",
      "RangeIndex: 449679 entries, 0 to 449678\n",
      "Data columns (total 21 columns):\n",
      "srch_id                        449679 non-null int64\n",
      "site_id                        449679 non-null category\n",
      "visitor_location_country_id    449679 non-null category\n",
      "prop_country_id                449679 non-null category\n",
      "prop_id                        449679 non-null category\n",
      "prop_starrating                449679 non-null int64\n",
      "prop_review_score              449679 non-null float64\n",
      "prop_brand_bool                449679 non-null bool\n",
      "prop_location_score1           449679 non-null float64\n",
      "prop_log_historical_price      449679 non-null float64\n",
      "promotion_flag                 449679 non-null bool\n",
      "srch_destination_id            449679 non-null category\n",
      "srch_length_of_stay            449679 non-null int64\n",
      "srch_booking_window            449679 non-null int64\n",
      "srch_adults_count              449679 non-null int64\n",
      "srch_children_count            449679 non-null int64\n",
      "srch_room_count                449679 non-null int64\n",
      "srch_saturday_night_bool       449679 non-null bool\n",
      "click_bool                     449679 non-null bool\n",
      "month                          449679 non-null category\n",
      "log_price                      449679 non-null float64\n",
      "dtypes: bool(4), category(6), float64(4), int64(7)\n",
      "memory usage: 47.9 MB\n"
     ]
    }
   ],
   "source": [
    "# encode non-numeric columns\n",
    "X_test[col_encode] = X_test[col_encode].apply(LabelEncoder().fit_transform)\n",
    "\n",
    "# convert all encoded variables back to categorical\n",
    "for col in col_encode:\n",
    "    X_test[col] = X_test[col].astype('category')\n",
    "    \n",
    "X_test.info()"
   ]
  },
  {
   "cell_type": "code",
   "execution_count": 8,
   "metadata": {},
   "outputs": [],
   "source": [
    "# save click_bool and srch_id from test\n",
    "click_list = X_test['click_bool']\n",
    "srchid_list = X_test['srch_id']"
   ]
  },
  {
   "cell_type": "code",
   "execution_count": 9,
   "metadata": {},
   "outputs": [],
   "source": [
    "# remove click_bool and srch_id from train\n",
    "X_train = X_train.drop(['click_bool', 'srch_id'], axis=1)\n",
    "\n",
    "# remove click_bool and srch_id from test\n",
    "X_test = X_test.drop(['click_bool', 'srch_id'], axis=1)"
   ]
  },
  {
   "cell_type": "code",
   "execution_count": 10,
   "metadata": {},
   "outputs": [
    {
     "name": "stdout",
     "output_type": "stream",
     "text": [
      "<class 'pandas.core.frame.DataFrame'>\n",
      "RangeIndex: 256246 entries, 0 to 256245\n",
      "Data columns (total 19 columns):\n",
      "site_id                        256246 non-null category\n",
      "visitor_location_country_id    256246 non-null category\n",
      "prop_country_id                256246 non-null category\n",
      "prop_id                        256246 non-null category\n",
      "prop_starrating                256246 non-null int64\n",
      "prop_review_score              256246 non-null float64\n",
      "prop_brand_bool                256246 non-null bool\n",
      "prop_location_score1           256246 non-null float64\n",
      "prop_log_historical_price      256246 non-null float64\n",
      "promotion_flag                 256246 non-null bool\n",
      "srch_destination_id            256246 non-null category\n",
      "srch_length_of_stay            256246 non-null int64\n",
      "srch_booking_window            256246 non-null int64\n",
      "srch_adults_count              256246 non-null int64\n",
      "srch_children_count            256246 non-null int64\n",
      "srch_room_count                256246 non-null int64\n",
      "srch_saturday_night_bool       256246 non-null bool\n",
      "month                          256246 non-null category\n",
      "log_price                      256246 non-null float64\n",
      "dtypes: bool(3), category(6), float64(4), int64(6)\n",
      "memory usage: 26.6 MB\n"
     ]
    }
   ],
   "source": [
    "X_train.info()"
   ]
  },
  {
   "cell_type": "markdown",
   "metadata": {},
   "source": [
    "## Decision Tree"
   ]
  },
  {
   "cell_type": "code",
   "execution_count": 45,
   "metadata": {},
   "outputs": [
    {
     "name": "stdout",
     "output_type": "stream",
     "text": [
      "0.6259966781759577\n",
      "{'criterion': 'gini', 'max_depth': 7, 'min_samples_leaf': 4, 'min_samples_split': 10}\n"
     ]
    }
   ],
   "source": [
    "np.random.seed(42)\n",
    "\n",
    "# Choosing optimal depth of the tree\n",
    "gs_dt1 = GridSearchCV(estimator=DecisionTreeClassifier(random_state=0),\n",
    "                  param_grid=[{'max_depth': [5,7,9,11], \n",
    "                               'criterion':['gini','entropy'], \n",
    "                              'min_samples_leaf':[4,6,8,10],\n",
    "                              'min_samples_split':[2,4,6,8,10]}],\n",
    "                  scoring='roc_auc',\n",
    "                  cv=5,\n",
    "                  n_jobs=-1)\n",
    "\n",
    "gs_dt1 = gs_dt1.fit(X_train,y_train)\n",
    "print(gs_dt1.best_score_)\n",
    "print(gs_dt1.best_params_)"
   ]
  },
  {
   "cell_type": "code",
   "execution_count": 13,
   "metadata": {},
   "outputs": [],
   "source": [
    "# train model with best parameters\n",
    "dt = DecisionTreeClassifier(criterion= 'gini', max_depth= 7, min_samples_leaf= 4, min_samples_split= 10)\n",
    "# predict probabilities on validation\n",
    "dt_model = dt.fit(X_train, y_train)\n",
    "y_dt_pred = dt_model.predict_proba(X_test)"
   ]
  },
  {
   "cell_type": "code",
   "execution_count": 63,
   "metadata": {},
   "outputs": [
    {
     "name": "stdout",
     "output_type": "stream",
     "text": [
      "The Random Forest AUC score is 0.614\n",
      "The Random Forest log loss is  0.250\n",
      "Accuracy (out-of-sample): 0.9600\n",
      "Accuracy (in-sample): 0.8362\n",
      "F1 score (out-of-sample): 0.4899\n",
      "F1 score (in-sample)    : 0.4564\n",
      "Kappa score (out-of-sample): -0.0003\n",
      "Kappa score (in-sample)    : 0.0015\n",
      "              precision    recall  f1-score   support\n",
      "\n",
      "          no       0.96      1.00      0.98    217152\n",
      "         yes       0.02      0.00      0.00      9000\n",
      "\n",
      "   micro avg       0.96      0.96      0.96    226152\n",
      "   macro avg       0.49      0.50      0.49    226152\n",
      "weighted avg       0.92      0.96      0.94    226152\n",
      "\n",
      "          Predicted no  Predicted yes\n",
      "True no         217099             53\n",
      "True yes          8999              1\n"
     ]
    }
   ],
   "source": [
    "# print evaluation measures\n",
    "# AUC\n",
    "from sklearn.metrics import roc_curve, auc, roc_auc_score, log_loss\n",
    "\n",
    "dt_auc = roc_auc_score(y_test,y_dt_pred[:,1])\n",
    "# log_loss\n",
    "dt_log_loss = log_loss(y_test, y_dt_pred)\n",
    "\n",
    "print('The Random Forest AUC score is %.3f'% dt_auc)\n",
    "print('The Random Forest log loss is  %.3f' % dt_log_loss)\n",
    "\n",
    "from sklearn.metrics import accuracy_score, f1_score, cohen_kappa_score, classification_report\n",
    "\n",
    "y_pred = gs_dt1.predict(X_test)\n",
    "y_pred_insample = gs_dt1.predict(X_train)\n",
    "\n",
    "# Accuracy\n",
    "print('Accuracy (out-of-sample): %.4f' % accuracy_score(y_test, y_pred))\n",
    "print('Accuracy (in-sample): %.4f' % accuracy_score(y_train, y_pred_insample))\n",
    "\n",
    "# F1 score\n",
    "print('F1 score (out-of-sample): %.4f' % f1_score(y_test, y_pred, average='macro'))\n",
    "print('F1 score (in-sample)    : %.4f' % f1_score(y_train, y_pred_insample, average='macro'))\n",
    "\n",
    "# Kappa score\n",
    "print('Kappa score (out-of-sample): %.4f' % cohen_kappa_score(y_test, y_pred))\n",
    "print('Kappa score (in-sample)    : %.4f' % cohen_kappa_score(y_train, y_pred_insample))\n",
    "\n",
    "# Build a text report showing the main classification metrics (out-of-sample performance)\n",
    "print(classification_report(y_test, y_pred, target_names=['no', 'yes']))\n",
    "\n",
    "# Confusion matrix\n",
    "from sklearn.metrics import confusion_matrix\n",
    "\n",
    "Confusion_Matrix = pd.DataFrame(\n",
    "    confusion_matrix(y_test, y_pred),\n",
    "    columns=['Predicted no', 'Predicted yes'],\n",
    "    index=['True no', 'True yes'])\n",
    "\n",
    "print(Confusion_Matrix)"
   ]
  },
  {
   "cell_type": "markdown",
   "metadata": {},
   "source": [
    "## Random Forest"
   ]
  },
  {
   "cell_type": "code",
   "execution_count": 67,
   "metadata": {},
   "outputs": [],
   "source": [
    "from sklearn.ensemble import RandomForestClassifier \n",
    "from sklearn.model_selection import train_test_split\n",
    "from sklearn.model_selection import GridSearchCV\n",
    "from sklearn import preprocessing\n",
    "from sklearn.preprocessing import LabelEncoder"
   ]
  },
  {
   "cell_type": "code",
   "execution_count": 68,
   "metadata": {},
   "outputs": [
    {
     "name": "stdout",
     "output_type": "stream",
     "text": [
      "0.6429658320234956\n",
      "{'criterion': 'gini', 'max_depth': 12, 'min_samples_leaf': 8, 'min_samples_split': 2, 'n_estimators': 100}\n",
      "RandomForestClassifier(bootstrap=True, class_weight=None, criterion='gini',\n",
      "            max_depth=12, max_features='auto', max_leaf_nodes=None,\n",
      "            min_impurity_decrease=0.0, min_impurity_split=None,\n",
      "            min_samples_leaf=8, min_samples_split=2,\n",
      "            min_weight_fraction_leaf=0.0, n_estimators=100, n_jobs=None,\n",
      "            oob_score=False, random_state=64, verbose=0, warm_start=False)\n"
     ]
    }
   ],
   "source": [
    "# random forest\n",
    "gs_rm = GridSearchCV(estimator=RandomForestClassifier(random_state=64),\n",
    "                  param_grid=[{'max_depth': [6,8,10,12], 'criterion':['gini','entropy'], \n",
    "                              'min_samples_leaf':[4,5,6,7,8,9],\n",
    "                              'min_samples_split':[2,3,4,5],\n",
    "                              'n_estimators':[100]}],\n",
    "                  scoring='roc_auc', cv=5, n_jobs=-1)\n",
    "\n",
    "gs_rm = gs_rm.fit(X_train, y_train)\n",
    "print(gs_rm.best_score_)\n",
    "print(gs_rm.best_params_)\n",
    "print(gs_rm.best_estimator_)\n",
    "\n",
    "# set the input parameters generated from GridSearch\n",
    "rm_param = gs_rm.best_params_\n",
    "# train model with best parameters\n",
    "rm = RandomForestClassifier(**rm_param)\n",
    "# predict probabilities on validation\n",
    "rm_model = rm.fit(X_train, y_train)\n",
    "y_rm_pred = rm_model.predict_proba(X_test)"
   ]
  },
  {
   "cell_type": "code",
   "execution_count": 70,
   "metadata": {},
   "outputs": [],
   "source": [
    "# train model with best parameters\n",
    "rm = RandomForestClassifier(**gs_rm.best_params_)\n",
    "# predict probabilities on validation\n",
    "rm_model = rm.fit(X_train, y_train)\n",
    "y_rm_pred = rm_model.predict_proba(X_test)"
   ]
  },
  {
   "cell_type": "code",
   "execution_count": 71,
   "metadata": {},
   "outputs": [
    {
     "name": "stdout",
     "output_type": "stream",
     "text": [
      "The Random Forest AUC score is 0.625\n",
      "The Random Forest log loss is  0.242\n",
      "          Predicted no  Predicted yes\n",
      "True no         431679              0\n",
      "True yes         18000              0\n"
     ]
    },
    {
     "data": {
      "text/html": [
       "<div>\n",
       "<style scoped>\n",
       "    .dataframe tbody tr th:only-of-type {\n",
       "        vertical-align: middle;\n",
       "    }\n",
       "\n",
       "    .dataframe tbody tr th {\n",
       "        vertical-align: top;\n",
       "    }\n",
       "\n",
       "    .dataframe thead th {\n",
       "        text-align: right;\n",
       "    }\n",
       "</style>\n",
       "<table border=\"1\" class=\"dataframe\">\n",
       "  <thead>\n",
       "    <tr style=\"text-align: right;\">\n",
       "      <th></th>\n",
       "      <th>feature</th>\n",
       "      <th>importance</th>\n",
       "    </tr>\n",
       "  </thead>\n",
       "  <tbody>\n",
       "    <tr>\n",
       "      <th>18</th>\n",
       "      <td>log_price</td>\n",
       "      <td>0.190838</td>\n",
       "    </tr>\n",
       "    <tr>\n",
       "      <th>9</th>\n",
       "      <td>promotion_flag</td>\n",
       "      <td>0.119432</td>\n",
       "    </tr>\n",
       "    <tr>\n",
       "      <th>4</th>\n",
       "      <td>prop_starrating</td>\n",
       "      <td>0.087690</td>\n",
       "    </tr>\n",
       "    <tr>\n",
       "      <th>5</th>\n",
       "      <td>prop_review_score</td>\n",
       "      <td>0.086557</td>\n",
       "    </tr>\n",
       "    <tr>\n",
       "      <th>8</th>\n",
       "      <td>prop_log_historical_price</td>\n",
       "      <td>0.076500</td>\n",
       "    </tr>\n",
       "    <tr>\n",
       "      <th>3</th>\n",
       "      <td>prop_id</td>\n",
       "      <td>0.075661</td>\n",
       "    </tr>\n",
       "    <tr>\n",
       "      <th>7</th>\n",
       "      <td>prop_location_score1</td>\n",
       "      <td>0.069486</td>\n",
       "    </tr>\n",
       "    <tr>\n",
       "      <th>10</th>\n",
       "      <td>srch_destination_id</td>\n",
       "      <td>0.062791</td>\n",
       "    </tr>\n",
       "    <tr>\n",
       "      <th>12</th>\n",
       "      <td>srch_booking_window</td>\n",
       "      <td>0.055240</td>\n",
       "    </tr>\n",
       "    <tr>\n",
       "      <th>2</th>\n",
       "      <td>prop_country_id</td>\n",
       "      <td>0.033649</td>\n",
       "    </tr>\n",
       "    <tr>\n",
       "      <th>1</th>\n",
       "      <td>visitor_location_country_id</td>\n",
       "      <td>0.026235</td>\n",
       "    </tr>\n",
       "    <tr>\n",
       "      <th>17</th>\n",
       "      <td>month</td>\n",
       "      <td>0.023579</td>\n",
       "    </tr>\n",
       "    <tr>\n",
       "      <th>0</th>\n",
       "      <td>site_id</td>\n",
       "      <td>0.023404</td>\n",
       "    </tr>\n",
       "    <tr>\n",
       "      <th>11</th>\n",
       "      <td>srch_length_of_stay</td>\n",
       "      <td>0.022304</td>\n",
       "    </tr>\n",
       "    <tr>\n",
       "      <th>13</th>\n",
       "      <td>srch_adults_count</td>\n",
       "      <td>0.012500</td>\n",
       "    </tr>\n",
       "    <tr>\n",
       "      <th>14</th>\n",
       "      <td>srch_children_count</td>\n",
       "      <td>0.011557</td>\n",
       "    </tr>\n",
       "    <tr>\n",
       "      <th>6</th>\n",
       "      <td>prop_brand_bool</td>\n",
       "      <td>0.009971</td>\n",
       "    </tr>\n",
       "    <tr>\n",
       "      <th>16</th>\n",
       "      <td>srch_saturday_night_bool</td>\n",
       "      <td>0.007722</td>\n",
       "    </tr>\n",
       "    <tr>\n",
       "      <th>15</th>\n",
       "      <td>srch_room_count</td>\n",
       "      <td>0.004884</td>\n",
       "    </tr>\n",
       "  </tbody>\n",
       "</table>\n",
       "</div>"
      ],
      "text/plain": [
       "                        feature  importance\n",
       "18                    log_price    0.190838\n",
       "9                promotion_flag    0.119432\n",
       "4               prop_starrating    0.087690\n",
       "5             prop_review_score    0.086557\n",
       "8     prop_log_historical_price    0.076500\n",
       "3                       prop_id    0.075661\n",
       "7          prop_location_score1    0.069486\n",
       "10          srch_destination_id    0.062791\n",
       "12          srch_booking_window    0.055240\n",
       "2               prop_country_id    0.033649\n",
       "1   visitor_location_country_id    0.026235\n",
       "17                        month    0.023579\n",
       "0                       site_id    0.023404\n",
       "11          srch_length_of_stay    0.022304\n",
       "13            srch_adults_count    0.012500\n",
       "14          srch_children_count    0.011557\n",
       "6               prop_brand_bool    0.009971\n",
       "16     srch_saturday_night_bool    0.007722\n",
       "15              srch_room_count    0.004884"
      ]
     },
     "execution_count": 71,
     "metadata": {},
     "output_type": "execute_result"
    }
   ],
   "source": [
    "# print evaluation measures\n",
    "# AUC\n",
    "from sklearn.metrics import roc_curve, auc, roc_auc_score, log_loss\n",
    "\n",
    "rm_auc = roc_auc_score(y_test,y_rm_pred[:,1])\n",
    "# log_loss\n",
    "rm_log_loss = log_loss(y_test, y_rm_pred)\n",
    "\n",
    "print('The Random Forest AUC score is %.3f'% rm_auc)\n",
    "print('The Random Forest log loss is  %.3f' % rm_log_loss)\n",
    "\n",
    "y_pred = gs_rm.predict(X_test)\n",
    "\n",
    "# Confusion matrix\n",
    "from sklearn.metrics import confusion_matrix\n",
    "\n",
    "Confusion_Matrix = pd.DataFrame(\n",
    "    confusion_matrix(y_test, y_pred),\n",
    "    columns=['Predicted no', 'Predicted yes'],\n",
    "    index=['True no', 'True yes'])\n",
    "\n",
    "print(Confusion_Matrix)\n",
    "\n",
    "# understand which features matter the most\n",
    "rm_importance = pd.DataFrame({'feature':X_train.columns,'importance':(rm_model.feature_importances_).ravel()})\n",
    "rm_importance.sort_values(by='importance', ascending=False)"
   ]
  },
  {
   "cell_type": "code",
   "execution_count": 120,
   "metadata": {
    "scrolled": true
   },
   "outputs": [
    {
     "data": {
      "text/plain": [
       "<matplotlib.axes._subplots.AxesSubplot at 0x1d9559fcf98>"
      ]
     },
     "execution_count": 120,
     "metadata": {},
     "output_type": "execute_result"
    },
    {
     "data": {
      "image/png": "[encoded data removed]",
      "text/plain": [
       "<Figure size 720x360 with 1 Axes>"
      ]
     },
     "metadata": {
      "needs_background": "light"
     },
     "output_type": "display_data"
    }
   ],
   "source": [
    "# output feature importance from random forests\n",
    "feats = {} # a dict to hold feature_name: feature_importance\n",
    "for feature, importance in zip(X_train.columns, gs_rm.best_estimator_.feature_importances_):\n",
    "    feats[feature] = importance #add the name/value pair \n",
    "    \n",
    "importances_rf = pd.DataFrame.from_dict(feats, orient='index').rename(columns={0: 'Gini-importance_rf'})\n",
    "importances_rf = importances_rf.sort_values('Gini-importance_rf', ascending = False)\n",
    "\n",
    "importances_rf.plot(kind='bar', figsize=(10,5), rot=70)"
   ]
  },
  {
   "cell_type": "markdown",
   "metadata": {},
   "source": [
    "### Gradient Boosting"
   ]
  },
  {
   "cell_type": "code",
   "execution_count": 11,
   "metadata": {
    "scrolled": true
   },
   "outputs": [
    {
     "name": "stdout",
     "output_type": "stream",
     "text": [
      "0.6448262697692181\n",
      "{'learning_rate': 0.05, 'max_depth': 7, 'min_samples_leaf': 4, 'min_samples_split': 10}\n",
      "GradientBoostingClassifier(criterion='friedman_mse', init=None,\n",
      "              learning_rate=0.05, loss='deviance', max_depth=7,\n",
      "              max_features=None, max_leaf_nodes=None,\n",
      "              min_impurity_decrease=0.0, min_impurity_split=None,\n",
      "              min_samples_leaf=4, min_samples_split=10,\n",
      "              min_weight_fraction_leaf=0.0, n_estimators=100,\n",
      "              n_iter_no_change=None, presort='auto', random_state=43,\n",
      "              subsample=1.0, tol=0.0001, validation_fraction=0.1,\n",
      "              verbose=0, warm_start=False)\n"
     ]
    }
   ],
   "source": [
    "from sklearn.model_selection import GridSearchCV, cross_val_score\n",
    "\n",
    "\n",
    "# can also optimize decision tree params\n",
    "gs_grb = GridSearchCV(estimator=GradientBoostingClassifier(loss='deviance', n_estimators=300, random_state=43),\n",
    "                  param_grid=[{'learning_rate': [0.05], 'max_depth': [7],'min_samples_leaf': [4], 'min_samples_split': [10]}],\n",
    "                  scoring='roc_auc', cv=5, n_jobs=-1)\n",
    "\n",
    "gs_grb = gs_grb.fit(X_train, y_train)\n",
    "\n",
    "print(gs_grb.best_score_)\n",
    "print(gs_grb.best_params_)\n",
    "print(gs_grb.best_estimator_)"
   ]
  },
  {
   "cell_type": "code",
   "execution_count": 11,
   "metadata": {},
   "outputs": [
    {
     "name": "stdout",
     "output_type": "stream",
     "text": [
      "0.6474105854355443\n",
      "{'learning_rate': 0.1, 'max_depth': 7, 'min_samples_leaf': 4, 'min_samples_split': 10}\n",
      "GradientBoostingClassifier(criterion='friedman_mse', init=None,\n",
      "              learning_rate=0.1, loss='deviance', max_depth=7,\n",
      "              max_features=None, max_leaf_nodes=None,\n",
      "              min_impurity_decrease=0.0, min_impurity_split=None,\n",
      "              min_samples_leaf=4, min_samples_split=10,\n",
      "              min_weight_fraction_leaf=0.0, n_estimators=100,\n",
      "              n_iter_no_change=None, presort='auto', random_state=43,\n",
      "              subsample=1.0, tol=0.0001, validation_fraction=0.1,\n",
      "              verbose=0, warm_start=False)\n"
     ]
    }
   ],
   "source": [
    "# can also optimize decision tree params\n",
    "gs_grb = GridSearchCV(estimator=GradientBoostingClassifier(loss='deviance', n_estimators=100, random_state=43),\n",
    "                  param_grid=[{'learning_rate': [0.1], 'max_depth': [7],'min_samples_leaf': [4], 'min_samples_split': [10]}],\n",
    "                  scoring='roc_auc', cv=5, n_jobs=-1)\n",
    "\n",
    "gs_grb = gs_grb.fit(X_train, y_train)\n",
    "\n",
    "print(gs_grb.best_score_)\n",
    "print(gs_grb.best_params_)\n",
    "print(gs_grb.best_estimator_)"
   ]
  },
  {
   "cell_type": "code",
   "execution_count": 12,
   "metadata": {},
   "outputs": [],
   "source": [
    "# train model with best parameters\n",
    "grb = GradientBoostingClassifier(**gs_grb.best_params_)\n",
    "# predict probabilities on validation\n",
    "grb_model = grb.fit(X_train, y_train)\n",
    "y_grb_pred = grb_model.predict_proba(X_test)"
   ]
  },
  {
   "cell_type": "markdown",
   "metadata": {},
   "source": [
    "## Generate search result table"
   ]
  },
  {
   "cell_type": "code",
   "execution_count": 13,
   "metadata": {},
   "outputs": [],
   "source": [
    "# generate results\n",
    "# columns relavent for evaluting performance ran for y_dt_pred, y_rm_pred and y_gb_pred\n",
    "\n",
    "# combine probability results \n",
    "y_pred = pd.DataFrame({'prob':y_grb_pred[:,1],'click_bool':click_list,'booking_bool':y_test, 'srch_id':srchid_list})\n",
    "y_pred['position'] = 0\n",
    "y_pred = y_pred.reset_index(0, drop=True)\n",
    "\n",
    "# combine results and search criteria\n",
    "rank_total = y_pred\n",
    "rank_total['score'] = rank_total['click_bool']*1 + rank_total['booking_bool']*5"
   ]
  },
  {
   "cell_type": "markdown",
   "metadata": {},
   "source": [
    "## Order display results by probability to click"
   ]
  },
  {
   "cell_type": "code",
   "execution_count": 14,
   "metadata": {},
   "outputs": [],
   "source": [
    "# sort results by probability\n",
    "rank = rank_total.groupby('srch_id', group_keys=False).apply(lambda x: x.sort_values('prob', ascending=False))"
   ]
  },
  {
   "cell_type": "code",
   "execution_count": 15,
   "metadata": {},
   "outputs": [],
   "source": [
    "# order hotel displays within each search by probability\n",
    "rank_order = rank.groupby('srch_id').head(10).reset_index(drop=True)"
   ]
  },
  {
   "cell_type": "code",
   "execution_count": 16,
   "metadata": {},
   "outputs": [],
   "source": [
    "# adding rank of display by each search\n",
    "rank_order['position'] = rank_order.groupby(['srch_id'])['position'].rank(method='first').astype(int).astype(str)"
   ]
  },
  {
   "cell_type": "markdown",
   "metadata": {},
   "source": [
    "## Reshape resutls as input to evalute model"
   ]
  },
  {
   "cell_type": "code",
   "execution_count": 17,
   "metadata": {
    "scrolled": true
   },
   "outputs": [],
   "source": [
    "# reshape the dataframe to obtain desired format to calculate ndgc\n",
    "ndgc_input = rank_order.pivot(index='srch_id', columns='position', values='score').reset_index()"
   ]
  },
  {
   "cell_type": "code",
   "execution_count": 18,
   "metadata": {},
   "outputs": [],
   "source": [
    "# remove name on index column\n",
    "del ndgc_input.columns.name\n",
    "# change names for each column\n",
    "new_names = [(i, 'rank_' + i) for i in ndgc_input.iloc[:,1:].columns.values]\n",
    "ndgc_input.rename(columns = dict(new_names), inplace=True)"
   ]
  },
  {
   "cell_type": "markdown",
   "metadata": {},
   "source": [
    "## NDGC function for model evalution"
   ]
  },
  {
   "cell_type": "code",
   "execution_count": 19,
   "metadata": {},
   "outputs": [],
   "source": [
    "# dcg and ndgc calculation code\n",
    "# source: https://www.kaggle.com/wendykan/ndcg-example\n",
    "def dcg_at_k(r, k, method=0):\n",
    "    r = np.asfarray(r)[:k]\n",
    "    if r.size:\n",
    "        if method == 0:\n",
    "            return r[0] + np.sum(r[1:] / np.log2(np.arange(2, r.size + 1)))\n",
    "        elif method == 1:\n",
    "            return np.sum(r / np.log2(np.arange(2, r.size + 2)))\n",
    "     \n",
    "    else:\n",
    "            raise ValueError('method must be 0 or 1.')\n",
    "    return 0.\n",
    "\n",
    "def ndcg_at_k(r, k, method=0):\n",
    "    dcg_max = dcg_at_k(sorted(r, reverse=True), k, method)\n",
    "    if not dcg_max:\n",
    "        return 0.\n",
    "    return dcg_at_k(r, k, method) / dcg_max"
   ]
  },
  {
   "cell_type": "markdown",
   "metadata": {},
   "source": [
    "## Calculate model performance"
   ]
  },
  {
   "cell_type": "code",
   "execution_count": 21,
   "metadata": {},
   "outputs": [
    {
     "data": {
      "text/plain": [
       "0.34737545863143815"
      ]
     },
     "execution_count": 21,
     "metadata": {},
     "output_type": "execute_result"
    }
   ],
   "source": [
    "# decision tree\n",
    "ndgc_input['ndcg'] = ndgc_input.iloc[:,1:].apply(lambda x: ndcg_at_k(x, 10), axis=1)\n",
    "dt_score = ndgc_input['ndcg'].mean()\n",
    "dt_score"
   ]
  },
  {
   "cell_type": "code",
   "execution_count": 108,
   "metadata": {},
   "outputs": [
    {
     "data": {
      "text/plain": [
       "0.38110142063807706"
      ]
     },
     "execution_count": 108,
     "metadata": {},
     "output_type": "execute_result"
    }
   ],
   "source": [
    "# random forests\n",
    "ndgc_input['ndcg'] = ndgc_input.iloc[:,1:].apply(lambda x: ndcg_at_k(x, 10), axis=1)\n",
    "rm_score = ndgc_input['ndcg'].mean()\n",
    "rm_score"
   ]
  },
  {
   "cell_type": "code",
   "execution_count": 20,
   "metadata": {},
   "outputs": [
    {
     "data": {
      "text/plain": [
       "0.32402582694003057"
      ]
     },
     "execution_count": 20,
     "metadata": {},
     "output_type": "execute_result"
    }
   ],
   "source": [
    "# gradient boosting\n",
    "ndgc_input['ndcg'] = ndgc_input.iloc[:,1:].apply(lambda x: ndcg_at_k(x, 10), axis=1)\n",
    "gb_score = ndgc_input['ndcg'].mean()\n",
    "gb_score # not the best result obtained before"
   ]
  },
  {
   "cell_type": "markdown",
   "metadata": {},
   "source": [
    "## benchmark result: random generated rankings"
   ]
  },
  {
   "cell_type": "code",
   "execution_count": null,
   "metadata": {},
   "outputs": [],
   "source": [
    "X_total = pd.concat([X_test, y_test], axis=1)\n",
    "X_total = X_total[['srch_id','click_bool','booking_bool']]\n",
    "X_total['position'] = 0\n",
    "# calculate score\n",
    "X_total['score'] = X_total['click_bool']*1 + X_total['booking_bool']*5"
   ]
  },
  {
   "cell_type": "code",
   "execution_count": null,
   "metadata": {},
   "outputs": [],
   "source": [
    "# pick top 10 random item\n",
    "X_order = X_total.groupby('srch_id').head(10).reset_index(drop=True)\n",
    "# randomly shuffle within group\n",
    "X_order = X_order.groupby('srch_id').apply(lambda x: x.sample(frac=1)).reset_index(drop=True)\n",
    "# adding rank of display by each search\n",
    "X_order['position'] = X_order.groupby(['srch_id'])['position'].rank(method='first').astype(int).astype(str)"
   ]
  },
  {
   "cell_type": "code",
   "execution_count": null,
   "metadata": {},
   "outputs": [],
   "source": [
    "# reshape the dataframe to obtain desired format to calculate ndgc\n",
    "random_input = X_order.pivot(index='srch_id', columns='position', values='score').reset_index()\n",
    "# remove name on index column\n",
    "del random_input.columns.name\n",
    "\n",
    "# change names for each column\n",
    "new_names = [(i, 'rank_' + i) for i in random_input.iloc[:,1:].columns.values]\n",
    "random_input.rename(columns = dict(new_names), inplace=True)"
   ]
  },
  {
   "cell_type": "code",
   "execution_count": null,
   "metadata": {},
   "outputs": [],
   "source": [
    "random_input['ndcg'] = random_input.iloc[:,1:].apply(lambda x: ndcg_at_k(x, 10), axis=1)\n",
    "random_score = random_input['ndcg'].mean()\n",
    "random_score"
   ]
  }
 ],
 "metadata": {
  "kernelspec": {
   "display_name": "Python 3",
   "language": "python",
   "name": "python3"
  },
  "language_info": {
   "codemirror_mode": {
    "name": "ipython",
    "version": 3
   },
   "file_extension": ".py",
   "mimetype": "text/x-python",
   "name": "python",
   "nbconvert_exporter": "python",
   "pygments_lexer": "ipython3",
   "version": "3.7.0"
  }
 },
 "nbformat": 4,
 "nbformat_minor": 2
}
